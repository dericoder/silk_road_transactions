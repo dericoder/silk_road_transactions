{
 "cells": [
  {
   "cell_type": "markdown",
   "id": "beautiful-strength",
   "metadata": {},
   "source": [
    "Pandas library will be used to manipulate the raw data to dataframe and graphings later on. To read a parquet extension file using pandas, we have to download pyarrow in advanced."
   ]
  },
  {
   "cell_type": "code",
   "execution_count": 283,
   "id": "great-mexico",
   "metadata": {},
   "outputs": [],
   "source": [
    "import pandas as pd\n",
    "\n",
    "df_price = pd.read_parquet('/Users/DericoDehnielsen/Downloads/price.snappy.parquet')\n",
    "df_item = pd.read_parquet('/Users/DericoDehnielsen/Downloads/item.snappy.parquet')\n",
    "df_feedback = pd.read_parquet('/Users/DericoDehnielsen/Downloads/feedback.snappy.parquet')"
   ]
  },
  {
   "cell_type": "markdown",
   "id": "stopped-clear",
   "metadata": {},
   "source": [
    "I have decided to only take into consideration the item_id that are present in the feedback dataset as a valid transaction. First, I will convert unix timestamp to datetime for easier grouping and get the count of each item_id for each date."
   ]
  },
  {
   "cell_type": "code",
   "execution_count": 284,
   "id": "tropical-spokesman",
   "metadata": {},
   "outputs": [],
   "source": [
    "import datetime as dt\n",
    "\n",
    "l = df_feedback.shape[0]\n",
    "\n",
    "for i in range(l):\n",
    "    df_feedback.loc[i,'feedback_time'] = dt.datetime.date(pd.Timestamp(df_feedback.loc[i,'feedback_time'], unit='s'))"
   ]
  },
  {
   "cell_type": "code",
   "execution_count": 285,
   "id": "appointed-fancy",
   "metadata": {},
   "outputs": [
    {
     "data": {
      "text/html": [
       "<div>\n",
       "<style scoped>\n",
       "    .dataframe tbody tr th:only-of-type {\n",
       "        vertical-align: middle;\n",
       "    }\n",
       "\n",
       "    .dataframe tbody tr th {\n",
       "        vertical-align: top;\n",
       "    }\n",
       "\n",
       "    .dataframe thead th {\n",
       "        text-align: right;\n",
       "    }\n",
       "</style>\n",
       "<table border=\"1\" class=\"dataframe\">\n",
       "  <thead>\n",
       "    <tr style=\"text-align: right;\">\n",
       "      <th></th>\n",
       "      <th>date</th>\n",
       "      <th>item_id</th>\n",
       "      <th>count</th>\n",
       "    </tr>\n",
       "  </thead>\n",
       "  <tbody>\n",
       "    <tr>\n",
       "      <th>0</th>\n",
       "      <td>1970-01-01</td>\n",
       "      <td>5864d22336</td>\n",
       "      <td>1</td>\n",
       "    </tr>\n",
       "    <tr>\n",
       "      <th>1</th>\n",
       "      <td>1970-01-01</td>\n",
       "      <td>5882294fac</td>\n",
       "      <td>1</td>\n",
       "    </tr>\n",
       "    <tr>\n",
       "      <th>2</th>\n",
       "      <td>1970-01-01</td>\n",
       "      <td>6d8f1af238</td>\n",
       "      <td>1</td>\n",
       "    </tr>\n",
       "    <tr>\n",
       "      <th>3</th>\n",
       "      <td>1970-01-01</td>\n",
       "      <td>95b7c9f032</td>\n",
       "      <td>4</td>\n",
       "    </tr>\n",
       "    <tr>\n",
       "      <th>4</th>\n",
       "      <td>2011-05-23</td>\n",
       "      <td>1478736c39</td>\n",
       "      <td>1</td>\n",
       "    </tr>\n",
       "  </tbody>\n",
       "</table>\n",
       "</div>"
      ],
      "text/plain": [
       "         date     item_id  count\n",
       "0  1970-01-01  5864d22336      1\n",
       "1  1970-01-01  5882294fac      1\n",
       "2  1970-01-01  6d8f1af238      1\n",
       "3  1970-01-01  95b7c9f032      4\n",
       "4  2011-05-23  1478736c39      1"
      ]
     },
     "execution_count": 285,
     "metadata": {},
     "output_type": "execute_result"
    }
   ],
   "source": [
    "df_feedback.drop('feedback_rating',axis=1)\n",
    "df_feedback.drop('feedback_hash',axis=1)\n",
    "feedback = df_feedback.groupby(['feedback_time','item_id']).size().reset_index(name='count')\n",
    "feedback.rename(columns={'feedback_time':'date'},inplace=True)\n",
    "feedback.head()"
   ]
  },
  {
   "cell_type": "markdown",
   "id": "through-lancaster",
   "metadata": {},
   "source": [
    "Check whether all items in the feedback dataset are present in the price dataset."
   ]
  },
  {
   "cell_type": "code",
   "execution_count": 305,
   "id": "severe-douglas",
   "metadata": {},
   "outputs": [
    {
     "name": "stdout",
     "output_type": "stream",
     "text": [
      "(96567, 3)\n",
      "True    96567\n",
      "Name: item_id, dtype: int64\n"
     ]
    }
   ],
   "source": [
    "print(feedback.shape)\n",
    "print(feedback['item_id'].isin(df_price['item_id']).value_counts())"
   ]
  },
  {
   "cell_type": "markdown",
   "id": "skilled-thumbnail",
   "metadata": {},
   "source": [
    "Now, I will merge the feedback dataframe with the df_price dataframe to have the price together with the transaction date in one dataframe. Thus, I will use left merge where the left dataset is the feedback data. However, because some items have different price tag at different times, I decided to get the average price of each item as they do not fluctuate a lot.\n",
    "\n",
    "I could have used the exact price per date, but I decided to go with the average because converting the unix timestamp to datetime takes too long (have waited for more than 2 hours on my laptop but still have not finished)."
   ]
  },
  {
   "cell_type": "code",
   "execution_count": 306,
   "id": "moral-reservation",
   "metadata": {},
   "outputs": [
    {
     "data": {
      "text/plain": [
       "(24390, 2)"
      ]
     },
     "execution_count": 306,
     "metadata": {},
     "output_type": "execute_result"
    }
   ],
   "source": [
    "price_mean = df_price.groupby('item_id').mean()\n",
    "price_mean.shape"
   ]
  },
  {
   "cell_type": "markdown",
   "id": "bizarre-opening",
   "metadata": {},
   "source": [
    "Next, I calculated the total amount paid for an item id for each date and get the volume per date in btc."
   ]
  },
  {
   "cell_type": "code",
   "execution_count": 307,
   "id": "reasonable-inspiration",
   "metadata": {},
   "outputs": [
    {
     "data": {
      "text/html": [
       "<div>\n",
       "<style scoped>\n",
       "    .dataframe tbody tr th:only-of-type {\n",
       "        vertical-align: middle;\n",
       "    }\n",
       "\n",
       "    .dataframe tbody tr th {\n",
       "        vertical-align: top;\n",
       "    }\n",
       "\n",
       "    .dataframe thead th {\n",
       "        text-align: right;\n",
       "    }\n",
       "</style>\n",
       "<table border=\"1\" class=\"dataframe\">\n",
       "  <thead>\n",
       "    <tr style=\"text-align: right;\">\n",
       "      <th></th>\n",
       "      <th>volume (btc)</th>\n",
       "    </tr>\n",
       "    <tr>\n",
       "      <th>date</th>\n",
       "      <th></th>\n",
       "    </tr>\n",
       "  </thead>\n",
       "  <tbody>\n",
       "    <tr>\n",
       "      <th>2011-05-23</th>\n",
       "      <td>252.745375</td>\n",
       "    </tr>\n",
       "    <tr>\n",
       "      <th>2011-06-08</th>\n",
       "      <td>10.043000</td>\n",
       "    </tr>\n",
       "    <tr>\n",
       "      <th>2011-06-14</th>\n",
       "      <td>10.330000</td>\n",
       "    </tr>\n",
       "    <tr>\n",
       "      <th>2011-06-16</th>\n",
       "      <td>19.520435</td>\n",
       "    </tr>\n",
       "    <tr>\n",
       "      <th>2011-06-21</th>\n",
       "      <td>80.251500</td>\n",
       "    </tr>\n",
       "  </tbody>\n",
       "</table>\n",
       "</div>"
      ],
      "text/plain": [
       "            volume (btc)\n",
       "date                    \n",
       "2011-05-23    252.745375\n",
       "2011-06-08     10.043000\n",
       "2011-06-14     10.330000\n",
       "2011-06-16     19.520435\n",
       "2011-06-21     80.251500"
      ]
     },
     "execution_count": 307,
     "metadata": {},
     "output_type": "execute_result"
    }
   ],
   "source": [
    "transactions = pd.merge(feedback, price_mean, on=['item_id'], how='left')\n",
    "transactions['volume_btc'] = transactions['count']*transactions['price']\n",
    "transactions = transactions.drop(['count','price','item_id'],axis=1)\n",
    "transactions = new_transactions.groupby('date').sum()\n",
    "transactions = transactions.iloc[1:,:] #the first row is from the year 1970, so I discard it\n",
    "transactions.head()"
   ]
  },
  {
   "cell_type": "markdown",
   "id": "heavy-potential",
   "metadata": {},
   "source": [
    "The dataset below is extracted from investing.com. It is the exchange rate of BTC to USD.\n",
    "Link: https://www.investing.com/crypto/bitcoin/historical-data"
   ]
  },
  {
   "cell_type": "code",
   "execution_count": 308,
   "id": "intermediate-walter",
   "metadata": {},
   "outputs": [
    {
     "data": {
      "text/plain": [
       "Date\n",
       "2012-07-24    8.6\n",
       "2012-07-23    8.4\n",
       "2012-07-22    8.4\n",
       "2012-07-21    8.9\n",
       "2012-07-20    8.5\n",
       "Name: Price, dtype: float64"
      ]
     },
     "execution_count": 308,
     "metadata": {},
     "output_type": "execute_result"
    }
   ],
   "source": [
    "df_btc = pd.read_csv('/Users/DericoDehnielsen/Downloads/Bitcoin Historical Data - Investing.com.csv')\n",
    "df_btc['Date'] = pd.to_datetime(df_btc['Date'])\n",
    "df_btc.set_index('Date',inplace=True)\n",
    "df_btc = df_btc['Price']\n",
    "df_btc.head()"
   ]
  },
  {
   "cell_type": "markdown",
   "id": "gentle-manual",
   "metadata": {},
   "source": [
    "Merge the df_btc dataframe and transactions dataframe together."
   ]
  },
  {
   "cell_type": "code",
   "execution_count": 309,
   "id": "prepared-brick",
   "metadata": {},
   "outputs": [],
   "source": [
    "transactions = transactions.join(df_btc)"
   ]
  },
  {
   "cell_type": "code",
   "execution_count": 310,
   "id": "auburn-desert",
   "metadata": {},
   "outputs": [],
   "source": [
    "transactions.rename(columns={'Price':'exchange rate'},inplace=True)\n",
    "transactions['volume (usd)'] = transactions['volume (btc)'] * transactions['exchange rate']"
   ]
  },
  {
   "cell_type": "code",
   "execution_count": 311,
   "id": "social-bradford",
   "metadata": {},
   "outputs": [
    {
     "data": {
      "text/html": [
       "<div>\n",
       "<style scoped>\n",
       "    .dataframe tbody tr th:only-of-type {\n",
       "        vertical-align: middle;\n",
       "    }\n",
       "\n",
       "    .dataframe tbody tr th {\n",
       "        vertical-align: top;\n",
       "    }\n",
       "\n",
       "    .dataframe thead th {\n",
       "        text-align: right;\n",
       "    }\n",
       "</style>\n",
       "<table border=\"1\" class=\"dataframe\">\n",
       "  <thead>\n",
       "    <tr style=\"text-align: right;\">\n",
       "      <th></th>\n",
       "      <th>volume (btc)</th>\n",
       "      <th>exchange rate</th>\n",
       "      <th>volume (usd)</th>\n",
       "    </tr>\n",
       "    <tr>\n",
       "      <th>date</th>\n",
       "      <th></th>\n",
       "      <th></th>\n",
       "      <th></th>\n",
       "    </tr>\n",
       "  </thead>\n",
       "  <tbody>\n",
       "    <tr>\n",
       "      <th>2011-05-23</th>\n",
       "      <td>252.745375</td>\n",
       "      <td>7.2</td>\n",
       "      <td>1819.766698</td>\n",
       "    </tr>\n",
       "    <tr>\n",
       "      <th>2011-06-08</th>\n",
       "      <td>10.043000</td>\n",
       "      <td>29.6</td>\n",
       "      <td>297.272800</td>\n",
       "    </tr>\n",
       "    <tr>\n",
       "      <th>2011-06-14</th>\n",
       "      <td>10.330000</td>\n",
       "      <td>19.3</td>\n",
       "      <td>199.369000</td>\n",
       "    </tr>\n",
       "    <tr>\n",
       "      <th>2011-06-16</th>\n",
       "      <td>19.520435</td>\n",
       "      <td>17.0</td>\n",
       "      <td>331.847391</td>\n",
       "    </tr>\n",
       "    <tr>\n",
       "      <th>2011-06-21</th>\n",
       "      <td>80.251500</td>\n",
       "      <td>17.5</td>\n",
       "      <td>1404.401250</td>\n",
       "    </tr>\n",
       "  </tbody>\n",
       "</table>\n",
       "</div>"
      ],
      "text/plain": [
       "            volume (btc)  exchange rate  volume (usd)\n",
       "date                                                 \n",
       "2011-05-23    252.745375            7.2   1819.766698\n",
       "2011-06-08     10.043000           29.6    297.272800\n",
       "2011-06-14     10.330000           19.3    199.369000\n",
       "2011-06-16     19.520435           17.0    331.847391\n",
       "2011-06-21     80.251500           17.5   1404.401250"
      ]
     },
     "execution_count": 311,
     "metadata": {},
     "output_type": "execute_result"
    }
   ],
   "source": [
    "transactions.head()"
   ]
  },
  {
   "cell_type": "markdown",
   "id": "controlling-cream",
   "metadata": {},
   "source": [
    "To get the transactions volume each day, I can sum the 'count' data per date from the feedback dataframe earlier."
   ]
  },
  {
   "cell_type": "code",
   "execution_count": 312,
   "id": "romance-anderson",
   "metadata": {},
   "outputs": [],
   "source": [
    "transaction_volume = feedback.groupby('date').sum()\n",
    "transactions = transactions.join(transaction_volume)"
   ]
  },
  {
   "cell_type": "code",
   "execution_count": 313,
   "id": "dynamic-encoding",
   "metadata": {},
   "outputs": [],
   "source": [
    "transactions.rename(columns={'volume (btc)': 'volume_btc', 'exchange rate': 'exchange_rate','volume (usd)': 'volume_usd', 'count': 'transaction_volume'},inplace=True)"
   ]
  },
  {
   "cell_type": "markdown",
   "id": "convenient-hands",
   "metadata": {},
   "source": [
    "This is my final dataset for this assignment:"
   ]
  },
  {
   "cell_type": "code",
   "execution_count": 317,
   "id": "colored-separation",
   "metadata": {},
   "outputs": [
    {
     "data": {
      "text/html": [
       "<div>\n",
       "<style scoped>\n",
       "    .dataframe tbody tr th:only-of-type {\n",
       "        vertical-align: middle;\n",
       "    }\n",
       "\n",
       "    .dataframe tbody tr th {\n",
       "        vertical-align: top;\n",
       "    }\n",
       "\n",
       "    .dataframe thead th {\n",
       "        text-align: right;\n",
       "    }\n",
       "</style>\n",
       "<table border=\"1\" class=\"dataframe\">\n",
       "  <thead>\n",
       "    <tr style=\"text-align: right;\">\n",
       "      <th></th>\n",
       "      <th>volume_btc</th>\n",
       "      <th>exchange_rate</th>\n",
       "      <th>volume_usd</th>\n",
       "      <th>transaction_volume</th>\n",
       "    </tr>\n",
       "    <tr>\n",
       "      <th>date</th>\n",
       "      <th></th>\n",
       "      <th></th>\n",
       "      <th></th>\n",
       "      <th></th>\n",
       "    </tr>\n",
       "  </thead>\n",
       "  <tbody>\n",
       "    <tr>\n",
       "      <th>2011-05-23</th>\n",
       "      <td>252.745375</td>\n",
       "      <td>7.2</td>\n",
       "      <td>1819.766698</td>\n",
       "      <td>8</td>\n",
       "    </tr>\n",
       "    <tr>\n",
       "      <th>2011-06-08</th>\n",
       "      <td>10.043000</td>\n",
       "      <td>29.6</td>\n",
       "      <td>297.272800</td>\n",
       "      <td>1</td>\n",
       "    </tr>\n",
       "    <tr>\n",
       "      <th>2011-06-14</th>\n",
       "      <td>10.330000</td>\n",
       "      <td>19.3</td>\n",
       "      <td>199.369000</td>\n",
       "      <td>1</td>\n",
       "    </tr>\n",
       "    <tr>\n",
       "      <th>2011-06-16</th>\n",
       "      <td>19.520435</td>\n",
       "      <td>17.0</td>\n",
       "      <td>331.847391</td>\n",
       "      <td>1</td>\n",
       "    </tr>\n",
       "    <tr>\n",
       "      <th>2011-06-21</th>\n",
       "      <td>80.251500</td>\n",
       "      <td>17.5</td>\n",
       "      <td>1404.401250</td>\n",
       "      <td>3</td>\n",
       "    </tr>\n",
       "    <tr>\n",
       "      <th>...</th>\n",
       "      <td>...</td>\n",
       "      <td>...</td>\n",
       "      <td>...</td>\n",
       "      <td>...</td>\n",
       "    </tr>\n",
       "    <tr>\n",
       "      <th>2012-07-20</th>\n",
       "      <td>15792.157993</td>\n",
       "      <td>8.5</td>\n",
       "      <td>134233.342937</td>\n",
       "      <td>1056</td>\n",
       "    </tr>\n",
       "    <tr>\n",
       "      <th>2012-07-21</th>\n",
       "      <td>9830.860486</td>\n",
       "      <td>8.9</td>\n",
       "      <td>87494.658328</td>\n",
       "      <td>809</td>\n",
       "    </tr>\n",
       "    <tr>\n",
       "      <th>2012-07-22</th>\n",
       "      <td>2893.629646</td>\n",
       "      <td>8.4</td>\n",
       "      <td>24306.489027</td>\n",
       "      <td>213</td>\n",
       "    </tr>\n",
       "    <tr>\n",
       "      <th>2012-07-23</th>\n",
       "      <td>16743.906735</td>\n",
       "      <td>8.4</td>\n",
       "      <td>140648.816570</td>\n",
       "      <td>1197</td>\n",
       "    </tr>\n",
       "    <tr>\n",
       "      <th>2012-07-24</th>\n",
       "      <td>2275.141803</td>\n",
       "      <td>8.6</td>\n",
       "      <td>19566.219502</td>\n",
       "      <td>211</td>\n",
       "    </tr>\n",
       "  </tbody>\n",
       "</table>\n",
       "<p>329 rows × 4 columns</p>\n",
       "</div>"
      ],
      "text/plain": [
       "              volume_btc  exchange_rate     volume_usd  transaction_volume\n",
       "date                                                                      \n",
       "2011-05-23    252.745375            7.2    1819.766698                   8\n",
       "2011-06-08     10.043000           29.6     297.272800                   1\n",
       "2011-06-14     10.330000           19.3     199.369000                   1\n",
       "2011-06-16     19.520435           17.0     331.847391                   1\n",
       "2011-06-21     80.251500           17.5    1404.401250                   3\n",
       "...                  ...            ...            ...                 ...\n",
       "2012-07-20  15792.157993            8.5  134233.342937                1056\n",
       "2012-07-21   9830.860486            8.9   87494.658328                 809\n",
       "2012-07-22   2893.629646            8.4   24306.489027                 213\n",
       "2012-07-23  16743.906735            8.4  140648.816570                1197\n",
       "2012-07-24   2275.141803            8.6   19566.219502                 211\n",
       "\n",
       "[329 rows x 4 columns]"
      ]
     },
     "execution_count": 317,
     "metadata": {},
     "output_type": "execute_result"
    }
   ],
   "source": [
    "transactions"
   ]
  },
  {
   "cell_type": "code",
   "execution_count": 315,
   "id": "artistic-honor",
   "metadata": {
    "scrolled": true
   },
   "outputs": [
    {
     "data": {
      "text/plain": [
       "Text(0.5, 0, 'Date')"
      ]
     },
     "execution_count": 315,
     "metadata": {},
     "output_type": "execute_result"
    },
    {
     "data": {
      "image/png": "[encoded data removed]",
      "text/plain": [
       "<Figure size 432x288 with 1 Axes>"
      ]
     },
     "metadata": {
      "needs_background": "light"
     },
     "output_type": "display_data"
    }
   ],
   "source": [
    "import matplotlib.pyplot as plt\n",
    "\n",
    "transactions['volume_btc'].plot(kind='line',\n",
    "                               color='r')\n",
    "\n",
    "plt.ylabel('Daily Volume (BTC)')\n",
    "plt.xlabel('Date')"
   ]
  },
  {
   "cell_type": "markdown",
   "id": "searching-simpson",
   "metadata": {},
   "source": [
    "Export transactions dataset to csv file"
   ]
  },
  {
   "cell_type": "code",
   "execution_count": 321,
   "id": "lonely-moisture",
   "metadata": {},
   "outputs": [],
   "source": [
    "tr = transactions.to_csv('transactions.csv',index=True)"
   ]
  },
  {
   "cell_type": "code",
   "execution_count": null,
   "id": "cleared-being",
   "metadata": {},
   "outputs": [],
   "source": []
  },
  {
   "cell_type": "code",
   "execution_count": null,
   "id": "sudden-endorsement",
   "metadata": {},
   "outputs": [],
   "source": []
  }
 ],
 "metadata": {
  "kernelspec": {
   "display_name": "Python 3",
   "language": "python",
   "name": "python3"
  },
  "language_info": {
   "codemirror_mode": {
    "name": "ipython",
    "version": 3
   },
   "file_extension": ".py",
   "mimetype": "text/x-python",
   "name": "python",
   "nbconvert_exporter": "python",
   "pygments_lexer": "ipython3",
   "version": "3.7.9"
  }
 },
 "nbformat": 4,
 "nbformat_minor": 5
}
